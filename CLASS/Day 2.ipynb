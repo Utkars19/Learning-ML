{
 "cells": [
  {
   "cell_type": "code",
   "execution_count": 6,
   "id": "55c49e7b",
   "metadata": {},
   "outputs": [
    {
     "name": "stdout",
     "output_type": "stream",
     "text": [
      "a is equal to b\n",
      "Machine Learning\n"
     ]
    }
   ],
   "source": [
    "a=20 \n",
    "b=20\n",
    "if a<b:\n",
    "    print(\"a is smaller than b\")\n",
    "    print(\"Artificial Intelligence\")\n",
    "elif a==b:\n",
    "    print(\"a is equal to b\")\n",
    "else:\n",
    "    print(\"a is greater than b\")\n",
    "print(\"Machine Learning\")\n"
   ]
  },
  {
   "cell_type": "code",
   "execution_count": 7,
   "id": "29220e22",
   "metadata": {},
   "outputs": [
    {
     "name": "stdout",
     "output_type": "stream",
     "text": [
      "we are going right\n"
     ]
    }
   ],
   "source": [
    "a=200\n",
    "b=300\n",
    "c=300\n",
    "if a<b and b==c:\n",
    "    print(\"we are going right\")\n",
    "    "
   ]
  },
  {
   "cell_type": "code",
   "execution_count": 13,
   "id": "00b8b087",
   "metadata": {},
   "outputs": [
    {
     "name": "stdout",
     "output_type": "stream",
     "text": [
      "more than 10\n",
      "above 100\n"
     ]
    }
   ],
   "source": [
    "a=234\n",
    "if a>10:\n",
    "    print(\"more than 10\")\n",
    "    if(a>100):\n",
    "        print(\"above 100\")\n",
    "    else:\n",
    "        print(\"above 10 but less than 100\")\n",
    "    "
   ]
  },
  {
   "cell_type": "code",
   "execution_count": 18,
   "id": "91ee00c1",
   "metadata": {},
   "outputs": [
    {
     "name": "stdout",
     "output_type": "stream",
     "text": [
      "c is largest\n"
     ]
    }
   ],
   "source": [
    "a=9\n",
    "b=12\n",
    "c=15\n",
    "if a>b and a>c:\n",
    "    print(\"a is largest\")\n",
    "elif b>c and b>a:\n",
    "    print(\"b is largest\")\n",
    "else:\n",
    "    print(\"c is largest\")"
   ]
  },
  {
   "cell_type": "code",
   "execution_count": null,
   "id": "ddbc348f",
   "metadata": {},
   "outputs": [],
   "source": [
    "x=input()\n",
    "print(type(x))\n",
    "if x==10:\n",
    "    print(\"equal to 10\")\n",
    "else:\n",
    "    print(\"Not equal to 10\")"
   ]
  },
  {
   "cell_type": "code",
   "execution_count": null,
   "id": "5badf1c1",
   "metadata": {},
   "outputs": [],
   "source": [
    "i=1\n",
    "while i<6:\n",
    "    print(i)\n",
    "    i+=1"
   ]
  },
  {
   "cell_type": "code",
   "execution_count": null,
   "id": "fc958121",
   "metadata": {},
   "outputs": [],
   "source": []
  },
  {
   "cell_type": "code",
   "execution_count": null,
   "id": "74d51a92",
   "metadata": {},
   "outputs": [],
   "source": []
  }
 ],
 "metadata": {
  "kernelspec": {
   "display_name": "Python 3 (ipykernel)",
   "language": "python",
   "name": "python3"
  },
  "language_info": {
   "codemirror_mode": {
    "name": "ipython",
    "version": 3
   },
   "file_extension": ".py",
   "mimetype": "text/x-python",
   "name": "python",
   "nbconvert_exporter": "python",
   "pygments_lexer": "ipython3",
   "version": "3.9.13"
  }
 },
 "nbformat": 4,
 "nbformat_minor": 5
}

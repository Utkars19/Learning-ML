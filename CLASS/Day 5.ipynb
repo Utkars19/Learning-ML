{
 "cells": [
  {
   "cell_type": "markdown",
   "id": "d4c0ef7c",
   "metadata": {},
   "source": [
    "# Basic sytax of func"
   ]
  },
  {
   "cell_type": "code",
   "execution_count": 1,
   "id": "a3a09282",
   "metadata": {},
   "outputs": [],
   "source": [
    "def add(a,b):\n",
    "    print(a+b)"
   ]
  },
  {
   "cell_type": "code",
   "execution_count": 2,
   "id": "3d25e099",
   "metadata": {},
   "outputs": [
    {
     "name": "stdout",
     "output_type": "stream",
     "text": [
      "25\n"
     ]
    }
   ],
   "source": [
    "add(12,13)"
   ]
  },
  {
   "cell_type": "code",
   "execution_count": 3,
   "id": "6b914f62",
   "metadata": {},
   "outputs": [],
   "source": [
    "c=18"
   ]
  },
  {
   "cell_type": "code",
   "execution_count": 4,
   "id": "0173aa14",
   "metadata": {},
   "outputs": [
    {
     "data": {
      "text/plain": [
       "18"
      ]
     },
     "execution_count": 4,
     "metadata": {},
     "output_type": "execute_result"
    }
   ],
   "source": [
    "c"
   ]
  },
  {
   "cell_type": "code",
   "execution_count": 5,
   "id": "40cb514e",
   "metadata": {},
   "outputs": [],
   "source": [
    "c=10\n",
    "def add4(a,b):\n",
    "    c=9"
   ]
  },
  {
   "cell_type": "code",
   "execution_count": 6,
   "id": "bf533a23",
   "metadata": {},
   "outputs": [
    {
     "data": {
      "text/plain": [
       "10"
      ]
     },
     "execution_count": 6,
     "metadata": {},
     "output_type": "execute_result"
    }
   ],
   "source": [
    "c"
   ]
  },
  {
   "cell_type": "code",
   "execution_count": 7,
   "id": "1d899172",
   "metadata": {},
   "outputs": [
    {
     "name": "stdout",
     "output_type": "stream",
     "text": [
      "suyashhimanshu\n"
     ]
    }
   ],
   "source": [
    "add(\"suyash\",\"himanshu\")"
   ]
  },
  {
   "cell_type": "code",
   "execution_count": 8,
   "id": "cf4ed53b",
   "metadata": {},
   "outputs": [],
   "source": [
    "def prime(x):\n",
    "    composite = False\n",
    "    for n in range(2,x):\n",
    "        if x%n==0:\n",
    "            composite = True\n",
    "            break\n",
    "    if not composite:\n",
    "        print(\"{} is Prime number\".format(x))\n",
    "  "
   ]
  },
  {
   "cell_type": "code",
   "execution_count": null,
   "id": "a51fad08",
   "metadata": {},
   "outputs": [],
   "source": [
    "number=int(input(\"input a number\"))"
   ]
  },
  {
   "cell_type": "code",
   "execution_count": null,
   "id": "46749a95",
   "metadata": {},
   "outputs": [],
   "source": [
    "prime(number)\n",
    "\n"
   ]
  },
  {
   "cell_type": "code",
   "execution_count": null,
   "id": "14da1803",
   "metadata": {},
   "outputs": [],
   "source": [
    "for i in range(1,100):\n",
    "    prime(_)\n",
    "    "
   ]
  },
  {
   "cell_type": "code",
   "execution_count": null,
   "id": "6a598d90",
   "metadata": {},
   "outputs": [],
   "source": []
  },
  {
   "cell_type": "code",
   "execution_count": null,
   "id": "4721c664",
   "metadata": {},
   "outputs": [],
   "source": []
  }
 ],
 "metadata": {
  "kernelspec": {
   "display_name": "Python 3 (ipykernel)",
   "language": "python",
   "name": "python3"
  },
  "language_info": {
   "codemirror_mode": {
    "name": "ipython",
    "version": 3
   },
   "file_extension": ".py",
   "mimetype": "text/x-python",
   "name": "python",
   "nbconvert_exporter": "python",
   "pygments_lexer": "ipython3",
   "version": "3.9.13"
  }
 },
 "nbformat": 4,
 "nbformat_minor": 5
}
